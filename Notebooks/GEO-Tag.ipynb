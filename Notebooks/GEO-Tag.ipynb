{
 "cells": [
  {
   "cell_type": "code",
   "execution_count": 14,
   "metadata": {
    "collapsed": true,
    "deletable": true,
    "editable": true
   },
   "outputs": [],
   "source": [
    "import math\n",
    "import numpy as np\n",
    "\n",
    "from PIL import Image\n",
    "import piexif\n",
    "\n",
    "import os\n",
    "import pandas as pd\n",
    "\n",
    "from pyproj import Proj"
   ]
  },
  {
   "cell_type": "code",
   "execution_count": 28,
   "metadata": {
    "collapsed": true,
    "deletable": true,
    "editable": true
   },
   "outputs": [],
   "source": [
    "metadatafile = '/Users/epi/GB_selection_log_735768.csv'\n",
    "dirname = '/Volumes/osx1/over/over2/rawdisplay/imgs/'\n",
    "imagelist = os.listdir(dirname)\n",
    "\n",
    "def getImageMetadataFile(metadatafile):\n",
    "        hbcdtatot = pd.read_csv(metadatafile, index_col=0)\n",
    "        hbcdtatot.index = pd.to_datetime(hbcdtatot.index)\n",
    "        hbcdta = hbcdtatot.loc[\n",
    "            hbcdtatot['Imagename'].isin((i.replace('.jpg', '') for i in imagelist))]\n",
    "        return hbcdtatot"
   ]
  },
  {
   "cell_type": "code",
   "execution_count": 29,
   "metadata": {
    "collapsed": true,
    "deletable": true,
    "editable": true
   },
   "outputs": [],
   "source": [
    "hbcdtatot = getImageMetadataFile(metadatafile)"
   ]
  },
  {
   "cell_type": "code",
   "execution_count": 41,
   "metadata": {
    "collapsed": true,
    "deletable": true,
    "editable": true
   },
   "outputs": [
    {
     "data": {
      "text/html": [
       "<div>\n",
       "<table border=\"1\" class=\"dataframe\">\n",
       "  <thead>\n",
       "    <tr style=\"text-align: right;\">\n",
       "      <th></th>\n",
       "      <th>x</th>\n",
       "      <th>y</th>\n",
       "      <th>xutm</th>\n",
       "      <th>yutm</th>\n",
       "      <th>Imagename</th>\n",
       "      <th>V_Depth</th>\n",
       "      <th>Water_Depth</th>\n",
       "      <th>Altimeter</th>\n",
       "      <th>Fov</th>\n",
       "      <th>Mm_pix</th>\n",
       "      <th>Salinity</th>\n",
       "      <th>Temp</th>\n",
       "      <th>O2</th>\n",
       "      <th>Cdom</th>\n",
       "      <th>Chlorophyll</th>\n",
       "      <th>Turb</th>\n",
       "    </tr>\n",
       "  </thead>\n",
       "  <tbody>\n",
       "    <tr>\n",
       "      <th>2015-06-19 17:23:33.734</th>\n",
       "      <td>514288.08</td>\n",
       "      <td>4.542407e+06</td>\n",
       "      <td>514242.726667</td>\n",
       "      <td>4.542380e+06</td>\n",
       "      <td>201503.20150619.172333734.187377</td>\n",
       "      <td>10.04</td>\n",
       "      <td>64.77</td>\n",
       "      <td>50.88</td>\n",
       "      <td>NaN</td>\n",
       "      <td>NaN</td>\n",
       "      <td>32.9081</td>\n",
       "      <td>10.75</td>\n",
       "      <td>6.96</td>\n",
       "      <td>56.0</td>\n",
       "      <td>138.0</td>\n",
       "      <td>807.0</td>\n",
       "    </tr>\n",
       "    <tr>\n",
       "      <th>2015-06-19 17:23:33.913</th>\n",
       "      <td>514381.66</td>\n",
       "      <td>4.542501e+06</td>\n",
       "      <td>514340.040000</td>\n",
       "      <td>4.542477e+06</td>\n",
       "      <td>201503.20150619.172333913.187378</td>\n",
       "      <td>9.90</td>\n",
       "      <td>64.77</td>\n",
       "      <td>50.88</td>\n",
       "      <td>NaN</td>\n",
       "      <td>NaN</td>\n",
       "      <td>32.9083</td>\n",
       "      <td>10.75</td>\n",
       "      <td>6.96</td>\n",
       "      <td>56.0</td>\n",
       "      <td>138.0</td>\n",
       "      <td>807.0</td>\n",
       "    </tr>\n",
       "    <tr>\n",
       "      <th>2015-06-19 17:23:34.070</th>\n",
       "      <td>514392.74</td>\n",
       "      <td>4.542513e+06</td>\n",
       "      <td>514351.870000</td>\n",
       "      <td>4.542489e+06</td>\n",
       "      <td>201503.20150619.172334070.187379</td>\n",
       "      <td>9.90</td>\n",
       "      <td>64.77</td>\n",
       "      <td>50.88</td>\n",
       "      <td>NaN</td>\n",
       "      <td>NaN</td>\n",
       "      <td>32.9083</td>\n",
       "      <td>10.75</td>\n",
       "      <td>6.96</td>\n",
       "      <td>56.0</td>\n",
       "      <td>138.0</td>\n",
       "      <td>807.0</td>\n",
       "    </tr>\n",
       "    <tr>\n",
       "      <th>2015-06-19 17:23:34.240</th>\n",
       "      <td>514403.82</td>\n",
       "      <td>4.542524e+06</td>\n",
       "      <td>514363.700000</td>\n",
       "      <td>4.542501e+06</td>\n",
       "      <td>201503.20150619.172334240.187380</td>\n",
       "      <td>9.71</td>\n",
       "      <td>64.77</td>\n",
       "      <td>51.91</td>\n",
       "      <td>NaN</td>\n",
       "      <td>NaN</td>\n",
       "      <td>32.9100</td>\n",
       "      <td>10.75</td>\n",
       "      <td>6.96</td>\n",
       "      <td>48.0</td>\n",
       "      <td>140.0</td>\n",
       "      <td>555.0</td>\n",
       "    </tr>\n",
       "    <tr>\n",
       "      <th>2015-06-19 17:23:34.420</th>\n",
       "      <td>514415.09</td>\n",
       "      <td>4.542536e+06</td>\n",
       "      <td>514376.148571</td>\n",
       "      <td>4.542514e+06</td>\n",
       "      <td>201503.20150619.172334420.187381</td>\n",
       "      <td>10.00</td>\n",
       "      <td>64.77</td>\n",
       "      <td>51.91</td>\n",
       "      <td>NaN</td>\n",
       "      <td>NaN</td>\n",
       "      <td>32.9081</td>\n",
       "      <td>10.75</td>\n",
       "      <td>6.96</td>\n",
       "      <td>48.0</td>\n",
       "      <td>140.0</td>\n",
       "      <td>555.0</td>\n",
       "    </tr>\n",
       "  </tbody>\n",
       "</table>\n",
       "</div>"
      ],
      "text/plain": [
       "                                 x             y           xutm          yutm  \\\n",
       "2015-06-19 17:23:33.734  514288.08  4.542407e+06  514242.726667  4.542380e+06   \n",
       "2015-06-19 17:23:33.913  514381.66  4.542501e+06  514340.040000  4.542477e+06   \n",
       "2015-06-19 17:23:34.070  514392.74  4.542513e+06  514351.870000  4.542489e+06   \n",
       "2015-06-19 17:23:34.240  514403.82  4.542524e+06  514363.700000  4.542501e+06   \n",
       "2015-06-19 17:23:34.420  514415.09  4.542536e+06  514376.148571  4.542514e+06   \n",
       "\n",
       "                                                Imagename  V_Depth  \\\n",
       "2015-06-19 17:23:33.734  201503.20150619.172333734.187377    10.04   \n",
       "2015-06-19 17:23:33.913  201503.20150619.172333913.187378     9.90   \n",
       "2015-06-19 17:23:34.070  201503.20150619.172334070.187379     9.90   \n",
       "2015-06-19 17:23:34.240  201503.20150619.172334240.187380     9.71   \n",
       "2015-06-19 17:23:34.420  201503.20150619.172334420.187381    10.00   \n",
       "\n",
       "                         Water_Depth  Altimeter  Fov  Mm_pix  Salinity   Temp  \\\n",
       "2015-06-19 17:23:33.734        64.77      50.88  NaN     NaN   32.9081  10.75   \n",
       "2015-06-19 17:23:33.913        64.77      50.88  NaN     NaN   32.9083  10.75   \n",
       "2015-06-19 17:23:34.070        64.77      50.88  NaN     NaN   32.9083  10.75   \n",
       "2015-06-19 17:23:34.240        64.77      51.91  NaN     NaN   32.9100  10.75   \n",
       "2015-06-19 17:23:34.420        64.77      51.91  NaN     NaN   32.9081  10.75   \n",
       "\n",
       "                           O2  Cdom  Chlorophyll   Turb  \n",
       "2015-06-19 17:23:33.734  6.96  56.0        138.0  807.0  \n",
       "2015-06-19 17:23:33.913  6.96  56.0        138.0  807.0  \n",
       "2015-06-19 17:23:34.070  6.96  56.0        138.0  807.0  \n",
       "2015-06-19 17:23:34.240  6.96  48.0        140.0  555.0  \n",
       "2015-06-19 17:23:34.420  6.96  48.0        140.0  555.0  "
      ]
     },
     "execution_count": 41,
     "metadata": {},
     "output_type": "execute_result"
    }
   ],
   "source": [
    "hbcdtatot.head()"
   ]
  },
  {
   "cell_type": "code",
   "execution_count": 34,
   "metadata": {
    "collapsed": false,
    "deletable": true,
    "editable": true
   },
   "outputs": [],
   "source": [
    "myProj = Proj(\"+proj=utm +no_defs +zone=19 +a=6378137 +rf=298.257223563 +towgs84=0.000,0.000,0.000 +to_meter=1\")\n",
    "\n",
    "lon, lat = myProj(hbcdtatot['x'][0], hbcdtatot['y'][0], inverse=True)"
   ]
  },
  {
   "cell_type": "code",
   "execution_count": 53,
   "metadata": {
    "collapsed": true,
    "deletable": true,
    "editable": true
   },
   "outputs": [],
   "source": [
    "def deg2ses(decdeg):\n",
    "    degrees = int(np.abs(decdeg))\n",
    "    minutes = int(((np.abs(decdeg)) - degrees)*60)\n",
    "    seconds = ((np.abs(decdeg) - degrees)*60 - minutes )*60\n",
    "    return (degrees, minutes, seconds)\n",
    "\n",
    "def geotag(img, lat, lon, time, date):\n",
    "    latitude = deg2ses(lat)\n",
    "    longitude = deg2ses(lon)\n",
    "    i = Image.open(img)\n",
    "    GPS = {0: (2, 2, 0, 0), \n",
    "           2: ((latitude[0], 1), (latitude[1], 1), (latitude[2], 1000)),\n",
    "           4: ((longitude[0], 1), (longitude[1], 1), (longitude[2], 1000)),\n",
    "           5: 1,\n",
    "           6: (3420199, 1000),\n",
    "           7: ((time[0], 1), (time[1], 1), (time[2], 1)),\n",
    "           16: b'M',\n",
    "           17: (281, 1),\n",
    "           27: b'ASCII\\x00\\x00\\x00GPS',\n",
    "           29: date}\n",
    "    if lat < 0:\n",
    "        GPS[1]=b'S'\n",
    "    if lon < 0:\n",
    "        GPS[3]=b'W'    \n",
    "    exif_dict = piexif.load(im.info[\"exif\"])\n",
    "    exif_dict['GPS'] = exif_dict['GPS']\n",
    "    exif_bytes = piexif.dump(exif_dict)\n",
    "    i = i.rotate(90, expand=True)\n",
    "    i.save(img, exif=exif_bytes)\n"
   ]
  },
  {
   "cell_type": "code",
   "execution_count": 54,
   "metadata": {
    "collapsed": false
   },
   "outputs": [],
   "source": [
    "geotag(\"/Users/epi/Desktop/201503.20150619.181143660.204645 2.jpg\", 43.123, -100.23, (10,56,3), '2014:07:11')"
   ]
  },
  {
   "cell_type": "code",
   "execution_count": null,
   "metadata": {
    "collapsed": true
   },
   "outputs": [],
   "source": []
  },
  {
   "cell_type": "code",
   "execution_count": 63,
   "metadata": {
    "collapsed": false
   },
   "outputs": [],
   "source": [
    "exif_dict = piexif.load(\"/Users/epi/Desktop/201503.20150619.181143660.204645 2.jpg\")\n",
    "if piexif.ImageIFD.MakerNoteSafety in exif_dict[\"0th\"]:\n",
    "    print(\"MakerNote is \", exif_dict[\"0th\"][piexif.ImageIFD.MakerNoteSafety])"
   ]
  },
  {
   "cell_type": "code",
   "execution_count": 62,
   "metadata": {
    "collapsed": true
   },
   "outputs": [],
   "source": [
    "exif_dict[\"0th\"][piexif.ImageIFD.MakerNoteSafety]='some notes'"
   ]
  },
  {
   "cell_type": "code",
   "execution_count": 64,
   "metadata": {
    "collapsed": true
   },
   "outputs": [
    {
     "data": {
      "text/plain": [
       "{'0th': {256: 3264,\n",
       "  257: 1836,\n",
       "  271: b'samsung',\n",
       "  272: b'SM-T705',\n",
       "  274: 6,\n",
       "  282: (72, 1),\n",
       "  283: (72, 1),\n",
       "  296: 2,\n",
       "  305: b'T705DDU1CPI1',\n",
       "  306: b'2016:12:25 14:33:42',\n",
       "  531: 1,\n",
       "  34665: 235,\n",
       "  34853: 647},\n",
       " '1st': {},\n",
       " 'Exif': {33437: (24, 10),\n",
       "  34850: 2,\n",
       "  36864: b'0220',\n",
       "  36867: b'2016:12:25 14:33:42',\n",
       "  36868: b'2016:12:25 14:33:42',\n",
       "  37381: (253, 100),\n",
       "  37383: 2,\n",
       "  37385: 0,\n",
       "  37386: (34, 10),\n",
       "  37500: b'\\x07\\x00\\x01\\x00\\x07\\x00\\x04\\x00\\x00\\x000100\\x02\\x00\\x04\\x00\\x01\\x00\\x00\\x00\\x00 \\x01\\x00\\x0c\\x00\\x04\\x00\\x01\\x00\\x00\\x00\\x00\\x00\\x00\\x00\\x10\\x00\\x05\\x00\\x01\\x00\\x00\\x00Z\\x00\\x00\\x00@\\x00\\x04\\x00\\x01\\x00\\x00\\x00\\x00\\x00\\x00\\x00P\\x00\\x04\\x00\\x01\\x00\\x00\\x00\\x01\\x00\\x00\\x00\\x00\\x01\\x03\\x00\\x01\\x00\\x00\\x00\\x00\\x00\\x00\\x00\\x00\\x00\\x00\\x00\\x00\\x00\\x00\\x00\\x00\\x00\\x00\\x00',\n",
       "  37891: (90, 1),\n",
       "  40961: 1,\n",
       "  40962: 3264,\n",
       "  40963: 1836,\n",
       "  41986: 0,\n",
       "  41987: 0,\n",
       "  41989: 32,\n",
       "  41990: 3,\n",
       "  42016: b'E08LSIC04SK'},\n",
       " 'GPS': {0: (2, 2, 0, 0),\n",
       "  1: b'N',\n",
       "  2: ((39, 1), (28, 1), (58748, 1000)),\n",
       "  3: b'W',\n",
       "  4: ((106, 1), (9, 1), (23913, 1000)),\n",
       "  5: 0,\n",
       "  6: (3420199, 1000),\n",
       "  7: ((16, 1), (45, 1), (1, 1)),\n",
       "  16: b'M',\n",
       "  17: (281, 1),\n",
       "  27: b'ASCII\\x00\\x00\\x00GPS',\n",
       "  29: b'2014:07:11'},\n",
       " 'Interop': {},\n",
       " 'thumbnail': None}"
      ]
     },
     "execution_count": 64,
     "metadata": {},
     "output_type": "execute_result"
    }
   ],
   "source": [
    "exif_dict"
   ]
  },
  {
   "cell_type": "code",
   "execution_count": null,
   "metadata": {
    "collapsed": true
   },
   "outputs": [],
   "source": []
  }
 ],
 "metadata": {
  "kernelspec": {
   "display_name": "Python 3",
   "language": "python",
   "name": "python3"
  },
  "language_info": {
   "codemirror_mode": {
    "name": "ipython",
    "version": 3
   },
   "file_extension": ".py",
   "mimetype": "text/x-python",
   "name": "python",
   "nbconvert_exporter": "python",
   "pygments_lexer": "ipython3",
   "version": "3.6.0"
  }
 },
 "nbformat": 4,
 "nbformat_minor": 2
}
